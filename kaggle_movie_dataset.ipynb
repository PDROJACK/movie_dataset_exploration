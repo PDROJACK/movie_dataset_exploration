{
  "cells": [
    {
      "metadata": {
        "_uuid": "8f2839f25d086af736a60e9eeb907d3b93b6e0e5",
        "_cell_guid": "b1076dfc-b9ad-4769-8c92-a6c4dae69d19",
        "trusted": true
      },
      "cell_type": "code",
      "source": "# This Python 3 environment comes with many helpful analytics libraries installed\n# It is defined by the kaggle/python docker image: https://github.com/kaggle/docker-python\n# For example, here's several helpful packages to load in \n\nimport numpy as np # linear algebra\nimport pandas as pd # data processing, CSV file I/O (e.g. pd.read_csv)\nimport matplotlib.pyplot as plt\n% matplotlib inline\nimport seaborn as sns\nfrom datetime import datetime \nimport json,ast\n\n# Input data files are available in the \"../input/\" directory.\n# For example, running this (by clicking run or pressing Shift+Enter) will list the files in the input directory\n\nimport os\nprint(os.listdir(\"../input\"))\n\n# Any results you write to the current directory are saved as output.",
      "execution_count": 29,
      "outputs": [
        {
          "output_type": "stream",
          "text": "['tmdb_5000_credits.csv', 'tmdb_5000_movies.csv']\n",
          "name": "stdout"
        }
      ]
    },
    {
      "metadata": {
        "trusted": true,
        "_uuid": "433e1a7e0381bf9a5eedf3ad5dc8729d309562a3"
      },
      "cell_type": "code",
      "source": "#function to parse JSON data\ndef parse_json(column, keys):\n    \n    \n    for index,i in zip(movies_df.index, movies_df[column].apply(json.loads)):\n        list1=[]\n        for j in range(len(i)):\n            list1.append(i[j][keys])\n        movies_df.loc[index,column]=str(list1)\n        \n",
      "execution_count": 36,
      "outputs": []
    },
    {
      "metadata": {
        "_cell_guid": "79c7e3d0-c299-4dcb-8224-4455121ee9b0",
        "_uuid": "d629ff2d2480ee46fbb7e2d37f6b5fab8052498a",
        "trusted": true
      },
      "cell_type": "code",
      "source": "#creating dataframes\n\ncredits = pd.read_csv('../input/tmdb_5000_credits.csv')\nmovies=pd.read_csv('../input/tmdb_5000_movies.csv')\n\nmovies.head()",
      "execution_count": 12,
      "outputs": [
        {
          "output_type": "execute_result",
          "execution_count": 12,
          "data": {
            "text/plain": "      budget    ...     vote_count\n0  237000000    ...          11800\n1  300000000    ...           4500\n2  245000000    ...           4466\n3  250000000    ...           9106\n4  260000000    ...           2124\n\n[5 rows x 20 columns]",
            "text/html": "<div>\n<style scoped>\n    .dataframe tbody tr th:only-of-type {\n        vertical-align: middle;\n    }\n\n    .dataframe tbody tr th {\n        vertical-align: top;\n    }\n\n    .dataframe thead th {\n        text-align: right;\n    }\n</style>\n<table border=\"1\" class=\"dataframe\">\n  <thead>\n    <tr style=\"text-align: right;\">\n      <th></th>\n      <th>budget</th>\n      <th>genres</th>\n      <th>homepage</th>\n      <th>id</th>\n      <th>keywords</th>\n      <th>original_language</th>\n      <th>original_title</th>\n      <th>overview</th>\n      <th>popularity</th>\n      <th>production_companies</th>\n      <th>production_countries</th>\n      <th>release_date</th>\n      <th>revenue</th>\n      <th>runtime</th>\n      <th>spoken_languages</th>\n      <th>status</th>\n      <th>tagline</th>\n      <th>title</th>\n      <th>vote_average</th>\n      <th>vote_count</th>\n    </tr>\n  </thead>\n  <tbody>\n    <tr>\n      <th>0</th>\n      <td>237000000</td>\n      <td>[{\"id\": 28, \"name\": \"Action\"}, {\"id\": 12, \"nam...</td>\n      <td>http://www.avatarmovie.com/</td>\n      <td>19995</td>\n      <td>[{\"id\": 1463, \"name\": \"culture clash\"}, {\"id\":...</td>\n      <td>en</td>\n      <td>Avatar</td>\n      <td>In the 22nd century, a paraplegic Marine is di...</td>\n      <td>150.437577</td>\n      <td>[{\"name\": \"Ingenious Film Partners\", \"id\": 289...</td>\n      <td>[{\"iso_3166_1\": \"US\", \"name\": \"United States o...</td>\n      <td>2009-12-10</td>\n      <td>2787965087</td>\n      <td>162.0</td>\n      <td>[{\"iso_639_1\": \"en\", \"name\": \"English\"}, {\"iso...</td>\n      <td>Released</td>\n      <td>Enter the World of Pandora.</td>\n      <td>Avatar</td>\n      <td>7.2</td>\n      <td>11800</td>\n    </tr>\n    <tr>\n      <th>1</th>\n      <td>300000000</td>\n      <td>[{\"id\": 12, \"name\": \"Adventure\"}, {\"id\": 14, \"...</td>\n      <td>http://disney.go.com/disneypictures/pirates/</td>\n      <td>285</td>\n      <td>[{\"id\": 270, \"name\": \"ocean\"}, {\"id\": 726, \"na...</td>\n      <td>en</td>\n      <td>Pirates of the Caribbean: At World's End</td>\n      <td>Captain Barbossa, long believed to be dead, ha...</td>\n      <td>139.082615</td>\n      <td>[{\"name\": \"Walt Disney Pictures\", \"id\": 2}, {\"...</td>\n      <td>[{\"iso_3166_1\": \"US\", \"name\": \"United States o...</td>\n      <td>2007-05-19</td>\n      <td>961000000</td>\n      <td>169.0</td>\n      <td>[{\"iso_639_1\": \"en\", \"name\": \"English\"}]</td>\n      <td>Released</td>\n      <td>At the end of the world, the adventure begins.</td>\n      <td>Pirates of the Caribbean: At World's End</td>\n      <td>6.9</td>\n      <td>4500</td>\n    </tr>\n    <tr>\n      <th>2</th>\n      <td>245000000</td>\n      <td>[{\"id\": 28, \"name\": \"Action\"}, {\"id\": 12, \"nam...</td>\n      <td>http://www.sonypictures.com/movies/spectre/</td>\n      <td>206647</td>\n      <td>[{\"id\": 470, \"name\": \"spy\"}, {\"id\": 818, \"name...</td>\n      <td>en</td>\n      <td>Spectre</td>\n      <td>A cryptic message from Bond’s past sends him o...</td>\n      <td>107.376788</td>\n      <td>[{\"name\": \"Columbia Pictures\", \"id\": 5}, {\"nam...</td>\n      <td>[{\"iso_3166_1\": \"GB\", \"name\": \"United Kingdom\"...</td>\n      <td>2015-10-26</td>\n      <td>880674609</td>\n      <td>148.0</td>\n      <td>[{\"iso_639_1\": \"fr\", \"name\": \"Fran\\u00e7ais\"},...</td>\n      <td>Released</td>\n      <td>A Plan No One Escapes</td>\n      <td>Spectre</td>\n      <td>6.3</td>\n      <td>4466</td>\n    </tr>\n    <tr>\n      <th>3</th>\n      <td>250000000</td>\n      <td>[{\"id\": 28, \"name\": \"Action\"}, {\"id\": 80, \"nam...</td>\n      <td>http://www.thedarkknightrises.com/</td>\n      <td>49026</td>\n      <td>[{\"id\": 849, \"name\": \"dc comics\"}, {\"id\": 853,...</td>\n      <td>en</td>\n      <td>The Dark Knight Rises</td>\n      <td>Following the death of District Attorney Harve...</td>\n      <td>112.312950</td>\n      <td>[{\"name\": \"Legendary Pictures\", \"id\": 923}, {\"...</td>\n      <td>[{\"iso_3166_1\": \"US\", \"name\": \"United States o...</td>\n      <td>2012-07-16</td>\n      <td>1084939099</td>\n      <td>165.0</td>\n      <td>[{\"iso_639_1\": \"en\", \"name\": \"English\"}]</td>\n      <td>Released</td>\n      <td>The Legend Ends</td>\n      <td>The Dark Knight Rises</td>\n      <td>7.6</td>\n      <td>9106</td>\n    </tr>\n    <tr>\n      <th>4</th>\n      <td>260000000</td>\n      <td>[{\"id\": 28, \"name\": \"Action\"}, {\"id\": 12, \"nam...</td>\n      <td>http://movies.disney.com/john-carter</td>\n      <td>49529</td>\n      <td>[{\"id\": 818, \"name\": \"based on novel\"}, {\"id\":...</td>\n      <td>en</td>\n      <td>John Carter</td>\n      <td>John Carter is a war-weary, former military ca...</td>\n      <td>43.926995</td>\n      <td>[{\"name\": \"Walt Disney Pictures\", \"id\": 2}]</td>\n      <td>[{\"iso_3166_1\": \"US\", \"name\": \"United States o...</td>\n      <td>2012-03-07</td>\n      <td>284139100</td>\n      <td>132.0</td>\n      <td>[{\"iso_639_1\": \"en\", \"name\": \"English\"}]</td>\n      <td>Released</td>\n      <td>Lost in our world, found in another.</td>\n      <td>John Carter</td>\n      <td>6.1</td>\n      <td>2124</td>\n    </tr>\n  </tbody>\n</table>\n</div>"
          },
          "metadata": {}
        }
      ]
    },
    {
      "metadata": {
        "trusted": true,
        "_uuid": "b296a91f303d41d04764945f531ae26907d5b23f"
      },
      "cell_type": "code",
      "source": "#cleansing dataset\n\ndel_movie_col=['keywords', 'homepage', 'status', 'tagline', 'original_language', 'homepage', \n                'overview', 'production_companies', 'original_title','title']\n\nmovies_df=movies.drop(del_movie_col,axis=1)\n\n##dropin duplicate data\nmovies_df=movies_df.drop_duplicates(keep='first')\n\n##droping missing or unrecorded data from budget and revenue\n#convert zero to nan\nmoney=['revenue','budget']\nmovies_df[money]=movies_df[money].replace(0,np.nan)\nmovies_df.dropna(subset=money,inplace=True)\n#changing money \n\n#converted release date to datetime object and extracted release year \nmovies_df.release_date=pd.to_datetime(movies_df['release_date'])\nmovies_df['release_year']=movies_df['release_date'].dt.year\n\n#parsing JSON data \nparse_json('genres','name')\nparse_json('production_countries','name')\nparse_json('spoken_languages','name')\nmovies_df.head()\n",
      "execution_count": 40,
      "outputs": [
        {
          "output_type": "execute_result",
          "execution_count": 40,
          "data": {
            "text/plain": "        budget     ...      release_year\n0  237000000.0     ...              2009\n1  300000000.0     ...              2007\n2  245000000.0     ...              2015\n3  250000000.0     ...              2012\n4  260000000.0     ...              2012\n\n[5 rows x 12 columns]",
            "text/html": "<div>\n<style scoped>\n    .dataframe tbody tr th:only-of-type {\n        vertical-align: middle;\n    }\n\n    .dataframe tbody tr th {\n        vertical-align: top;\n    }\n\n    .dataframe thead th {\n        text-align: right;\n    }\n</style>\n<table border=\"1\" class=\"dataframe\">\n  <thead>\n    <tr style=\"text-align: right;\">\n      <th></th>\n      <th>budget</th>\n      <th>genres</th>\n      <th>id</th>\n      <th>popularity</th>\n      <th>production_countries</th>\n      <th>release_date</th>\n      <th>revenue</th>\n      <th>runtime</th>\n      <th>spoken_languages</th>\n      <th>vote_average</th>\n      <th>vote_count</th>\n      <th>release_year</th>\n    </tr>\n  </thead>\n  <tbody>\n    <tr>\n      <th>0</th>\n      <td>237000000.0</td>\n      <td>['Action', 'Adventure', 'Fantasy', 'Science Fi...</td>\n      <td>19995</td>\n      <td>150.437577</td>\n      <td>['United States of America', 'United Kingdom']</td>\n      <td>2009-12-10</td>\n      <td>2.787965e+09</td>\n      <td>162.0</td>\n      <td>['English', 'Español']</td>\n      <td>7.2</td>\n      <td>11800</td>\n      <td>2009</td>\n    </tr>\n    <tr>\n      <th>1</th>\n      <td>300000000.0</td>\n      <td>['Adventure', 'Fantasy', 'Action']</td>\n      <td>285</td>\n      <td>139.082615</td>\n      <td>['United States of America']</td>\n      <td>2007-05-19</td>\n      <td>9.610000e+08</td>\n      <td>169.0</td>\n      <td>['English']</td>\n      <td>6.9</td>\n      <td>4500</td>\n      <td>2007</td>\n    </tr>\n    <tr>\n      <th>2</th>\n      <td>245000000.0</td>\n      <td>['Action', 'Adventure', 'Crime']</td>\n      <td>206647</td>\n      <td>107.376788</td>\n      <td>['United Kingdom', 'United States of America']</td>\n      <td>2015-10-26</td>\n      <td>8.806746e+08</td>\n      <td>148.0</td>\n      <td>['Français', 'English', 'Español', 'Italiano',...</td>\n      <td>6.3</td>\n      <td>4466</td>\n      <td>2015</td>\n    </tr>\n    <tr>\n      <th>3</th>\n      <td>250000000.0</td>\n      <td>['Action', 'Crime', 'Drama', 'Thriller']</td>\n      <td>49026</td>\n      <td>112.312950</td>\n      <td>['United States of America']</td>\n      <td>2012-07-16</td>\n      <td>1.084939e+09</td>\n      <td>165.0</td>\n      <td>['English']</td>\n      <td>7.6</td>\n      <td>9106</td>\n      <td>2012</td>\n    </tr>\n    <tr>\n      <th>4</th>\n      <td>260000000.0</td>\n      <td>['Action', 'Adventure', 'Science Fiction']</td>\n      <td>49529</td>\n      <td>43.926995</td>\n      <td>['United States of America']</td>\n      <td>2012-03-07</td>\n      <td>2.841391e+08</td>\n      <td>132.0</td>\n      <td>['English']</td>\n      <td>6.1</td>\n      <td>2124</td>\n      <td>2012</td>\n    </tr>\n  </tbody>\n</table>\n</div>"
          },
          "metadata": {}
        }
      ]
    },
    {
      "metadata": {
        "trusted": true,
        "_uuid": "52bdeaac9f0162f3fdc5b22685a22f06a4f9d519"
      },
      "cell_type": "code",
      "source": "#Most expensive movie\n\nexpensive_movie_df=movies_df.sort_values(by='budget',ascending=False).head()\nexpensive_movie_df",
      "execution_count": 43,
      "outputs": [
        {
          "output_type": "execute_result",
          "execution_count": 43,
          "data": {
            "text/plain": "         budget     ...      release_year\n17  380000000.0     ...              2011\n1   300000000.0     ...              2007\n7   280000000.0     ...              2015\n10  270000000.0     ...              2006\n4   260000000.0     ...              2012\n\n[5 rows x 12 columns]",
            "text/html": "<div>\n<style scoped>\n    .dataframe tbody tr th:only-of-type {\n        vertical-align: middle;\n    }\n\n    .dataframe tbody tr th {\n        vertical-align: top;\n    }\n\n    .dataframe thead th {\n        text-align: right;\n    }\n</style>\n<table border=\"1\" class=\"dataframe\">\n  <thead>\n    <tr style=\"text-align: right;\">\n      <th></th>\n      <th>budget</th>\n      <th>genres</th>\n      <th>id</th>\n      <th>popularity</th>\n      <th>production_countries</th>\n      <th>release_date</th>\n      <th>revenue</th>\n      <th>runtime</th>\n      <th>spoken_languages</th>\n      <th>vote_average</th>\n      <th>vote_count</th>\n      <th>release_year</th>\n    </tr>\n  </thead>\n  <tbody>\n    <tr>\n      <th>17</th>\n      <td>380000000.0</td>\n      <td>['Adventure', 'Action', 'Fantasy']</td>\n      <td>1865</td>\n      <td>135.413856</td>\n      <td>['United States of America']</td>\n      <td>2011-05-14</td>\n      <td>1.045714e+09</td>\n      <td>136.0</td>\n      <td>['English', 'Español']</td>\n      <td>6.4</td>\n      <td>4948</td>\n      <td>2011</td>\n    </tr>\n    <tr>\n      <th>1</th>\n      <td>300000000.0</td>\n      <td>['Adventure', 'Fantasy', 'Action']</td>\n      <td>285</td>\n      <td>139.082615</td>\n      <td>['United States of America']</td>\n      <td>2007-05-19</td>\n      <td>9.610000e+08</td>\n      <td>169.0</td>\n      <td>['English']</td>\n      <td>6.9</td>\n      <td>4500</td>\n      <td>2007</td>\n    </tr>\n    <tr>\n      <th>7</th>\n      <td>280000000.0</td>\n      <td>['Action', 'Adventure', 'Science Fiction']</td>\n      <td>99861</td>\n      <td>134.279229</td>\n      <td>['United States of America']</td>\n      <td>2015-04-22</td>\n      <td>1.405404e+09</td>\n      <td>141.0</td>\n      <td>['English']</td>\n      <td>7.3</td>\n      <td>6767</td>\n      <td>2015</td>\n    </tr>\n    <tr>\n      <th>10</th>\n      <td>270000000.0</td>\n      <td>['Adventure', 'Fantasy', 'Action', 'Science Fi...</td>\n      <td>1452</td>\n      <td>57.925623</td>\n      <td>['United States of America']</td>\n      <td>2006-06-28</td>\n      <td>3.910812e+08</td>\n      <td>154.0</td>\n      <td>['English', 'Français', 'Deutsch']</td>\n      <td>5.4</td>\n      <td>1400</td>\n      <td>2006</td>\n    </tr>\n    <tr>\n      <th>4</th>\n      <td>260000000.0</td>\n      <td>['Action', 'Adventure', 'Science Fiction']</td>\n      <td>49529</td>\n      <td>43.926995</td>\n      <td>['United States of America']</td>\n      <td>2012-03-07</td>\n      <td>2.841391e+08</td>\n      <td>132.0</td>\n      <td>['English']</td>\n      <td>6.1</td>\n      <td>2124</td>\n      <td>2012</td>\n    </tr>\n  </tbody>\n</table>\n</div>"
          },
          "metadata": {}
        }
      ]
    },
    {
      "metadata": {
        "trusted": true,
        "_uuid": "d3919259c2fae662e6d2ac07e52bad5b908db7d7"
      },
      "cell_type": "code",
      "source": "# comparison between most expensive and least expensive",
      "execution_count": null,
      "outputs": []
    }
  ],
  "metadata": {
    "kernelspec": {
      "display_name": "Python 3",
      "language": "python",
      "name": "python3"
    },
    "language_info": {
      "name": "python",
      "version": "3.6.6",
      "mimetype": "text/x-python",
      "codemirror_mode": {
        "name": "ipython",
        "version": 3
      },
      "pygments_lexer": "ipython3",
      "nbconvert_exporter": "python",
      "file_extension": ".py"
    }
  },
  "nbformat": 4,
  "nbformat_minor": 1
}